{
 "cells": [
  {
   "cell_type": "code",
   "execution_count": 2,
   "metadata": {},
   "outputs": [],
   "source": [
    "import pandas as pd\n",
    "from sqlalchemy.types import VARCHAR, INTEGER, FLOAT\n",
    "from sqlalchemy import text\n",
    "from sqlalchemy import create_engine\n"
   ]
  },
  {
   "cell_type": "code",
   "execution_count": 3,
   "metadata": {},
   "outputs": [],
   "source": [
    "# connect to the database\n",
    "engine = create_engine('mssql+pyodbc://WagnerProdAGL1/Targit_DM?driver=ODBC+Driver+17+for+SQL+Server', echo=False, fast_executemany=True)"
   ]
  },
  {
   "cell_type": "code",
   "execution_count": 4,
   "metadata": {},
   "outputs": [],
   "source": [
    "# Read OTIL excel\n",
    "df_OTIF_Stage = pd.read_excel('Files/20231214 DBS and CMIS Grief.xlsx', sheet_name='CMIS Grief', skiprows=3)"
   ]
  },
  {
   "cell_type": "markdown",
   "metadata": {},
   "source": []
  },
  {
   "cell_type": "markdown",
   "metadata": {},
   "source": [
    "### Logic to getting the calculations made\n"
   ]
  },
  {
   "cell_type": "code",
   "execution_count": 16,
   "metadata": {},
   "outputs": [],
   "source": [
    "# # Assuming 'your_column_name' is the name of the column you want to pad with leading zeros\n",
    "# df_OTIF_Stage['Store'] = df_OTIF_Stage['Store'].astype(str).str.zfill(2)"
   ]
  },
  {
   "cell_type": "code",
   "execution_count": 5,
   "metadata": {},
   "outputs": [],
   "source": [
    "# Rename column 'Store' to 'Store_Number'\n",
    "df_OTIF_Stage.rename(columns={'Store': 'Store_Number'}, inplace=True)\n",
    "\n",
    "# Pad Store_Number with leading zeros if single digit\n",
    "df_OTIF_Stage['Store_Number'] = df_OTIF_Stage['Store_Number'].astype(str).str.zfill(2)\n"
   ]
  },
  {
   "cell_type": "code",
   "execution_count": 8,
   "metadata": {},
   "outputs": [],
   "source": [
    "\n",
    "\n",
    "# # Count 'part no' for the Aging column, transpose the values, then group by Store_Number\n",
    "# result_df = df_OTIF_Stage.groupby(['Store_Number', 'Aging'])['Part No'].count().unstack(fill_value=0)\n",
    "\n",
    "# # reset the index and have 'Store_Number' as a regular column:\n",
    "# result_df = result_df.reset_index()\n",
    "\n",
    "\n",
    "\n",
    "result_df = df_OTIF_Stage\n",
    "\n",
    "result_df\n"
   ]
  },
  {
   "cell_type": "markdown",
   "metadata": {},
   "source": []
  },
  {
   "cell_type": "code",
   "execution_count": 10,
   "metadata": {},
   "outputs": [],
   "source": [
    "# # Specify data types for each column\n",
    "# dtype_mapping = {\n",
    "#     'Store_Number': VARCHAR,\n",
    "#     '30+ days': INTEGER,\n",
    "#     '10-29 Days': INTEGER,\n",
    "#     '0-9 Days': INTEGER,\n",
    "# }\n",
    "\n",
    "table_name = 'CMIS_Grief'"
   ]
  },
  {
   "cell_type": "code",
   "execution_count": 11,
   "metadata": {},
   "outputs": [
    {
     "data": {
      "text/plain": [
       "-1"
      ]
     },
     "execution_count": 11,
     "metadata": {},
     "output_type": "execute_result"
    }
   ],
   "source": [
    "# Convert the DataFrame to a table in the dbo schema without explicit data types\n",
    "result_df.to_sql('CMIS_Grief', con=engine, index=False, if_exists='replace', schema='dbo')"
   ]
  },
  {
   "cell_type": "code",
   "execution_count": 35,
   "metadata": {},
   "outputs": [],
   "source": [
    "# Execute the SQL queries\n",
    "with engine.connect() as connection:\n",
    "    # Create the final table\n",
    "    connection.execute(text(sql_create_table_query))\n",
    "    \n",
    "    # Insert into final table\n",
    "    connection.execute(text(sql_insert_query))\n",
    "    \n",
    "    # Truncate staging table\n",
    "    connection.execute(text(sql_truncate_staging))\n",
    "\n",
    "    # Commit the transaction\n",
    "    connection.commit()\n"
   ]
  },
  {
   "cell_type": "code",
   "execution_count": null,
   "metadata": {},
   "outputs": [],
   "source": [
    "# Write df_OTIL to SQL Server (replace 'final_table' with your actual table name)\n",
    "# df_OTIL.to_sql('Parts_OTIL', con=engine, index=False, if_exists='replace')\n",
    "\n",
    "\n",
    "# Write df_OTIL to Excel\n",
    "df_OTIL.to_excel('OTIL_Testing.xlsx', index=False)"
   ]
  }
 ],
 "metadata": {
  "kernelspec": {
   "display_name": "Python 3",
   "language": "python",
   "name": "python3"
  },
  "language_info": {
   "codemirror_mode": {
    "name": "ipython",
    "version": 3
   },
   "file_extension": ".py",
   "mimetype": "text/x-python",
   "name": "python",
   "nbconvert_exporter": "python",
   "pygments_lexer": "ipython3",
   "version": "3.9.0"
  }
 },
 "nbformat": 4,
 "nbformat_minor": 2
}
